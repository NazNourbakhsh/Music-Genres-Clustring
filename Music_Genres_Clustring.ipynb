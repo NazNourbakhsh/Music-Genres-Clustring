{
 "cells": [
  {
   "cell_type": "code",
   "execution_count": 1,
   "id": "20c347ed-d7b7-46d7-be08-7b450a0df8b0",
   "metadata": {
    "tags": []
   },
   "outputs": [],
   "source": [
    "import pandas as pd\n",
    "import numpy as np\n",
    "from sklearn import cluster"
   ]
  },
  {
   "cell_type": "code",
   "execution_count": 2,
   "id": "0758ae07-fe2b-4160-b218-363ff37d2a6e",
   "metadata": {
    "tags": []
   },
   "outputs": [
    {
     "name": "stdout",
     "output_type": "stream",
     "text": [
      "   Index                   Title             Artist            Top Genre  \\\n",
      "0      1                 Sunrise        Norah Jones      adult standards   \n",
      "1      2             Black Night        Deep Purple           album rock   \n",
      "2      3          Clint Eastwood           Gorillaz  alternative hip hop   \n",
      "3      4           The Pretender       Foo Fighters    alternative metal   \n",
      "4      5  Waitin' On A Sunny Day  Bruce Springsteen         classic rock   \n",
      "\n",
      "   Year  Beats Per Minute (BPM)  Energy  Danceability  Loudness (dB)  \\\n",
      "0  2004                     157      30            53            -14   \n",
      "1  2000                     135      79            50            -11   \n",
      "2  2001                     168      69            66             -9   \n",
      "3  2007                     173      96            43             -4   \n",
      "4  2002                     106      82            58             -5   \n",
      "\n",
      "   Liveness  Valence Length (Duration)  Acousticness  Speechiness  Popularity  \n",
      "0        11       68               201            94            3          71  \n",
      "1        17       81               207            17            7          39  \n",
      "2         7       52               341             2           17          69  \n",
      "3         3       37               269             0            4          76  \n",
      "4        10       87               256             1            3          59  \n"
     ]
    }
   ],
   "source": [
    "data = pd.read_csv(\"Spotify-2000.csv\")\n",
    "print(data.head())"
   ]
  },
  {
   "cell_type": "code",
   "execution_count": 3,
   "id": "81067558-768e-4287-8529-60259febd493",
   "metadata": {
    "tags": []
   },
   "outputs": [],
   "source": [
    "#Drop index col\n",
    "data = data.drop(\"Index\", axis=1)"
   ]
  },
  {
   "cell_type": "code",
   "execution_count": 4,
   "id": "7b6edc28-293c-4408-88a2-e555c202a695",
   "metadata": {
    "tags": []
   },
   "outputs": [
    {
     "name": "stdout",
     "output_type": "stream",
     "text": [
      "                            Year  Beats Per Minute (BPM)    Energy  \\\n",
      "Year                    1.000000                0.012570  0.147235   \n",
      "Beats Per Minute (BPM)  0.012570                1.000000  0.156644   \n",
      "Energy                  0.147235                0.156644  1.000000   \n",
      "Danceability            0.077493               -0.140602  0.139616   \n",
      "Loudness (dB)           0.343764                0.092927  0.735711   \n",
      "Liveness                0.019017                0.016256  0.174118   \n",
      "Valence                -0.166163                0.059653  0.405175   \n",
      "Acousticness           -0.132946               -0.122472 -0.665156   \n",
      "Speechiness             0.054097                0.085598  0.205865   \n",
      "Popularity             -0.158962               -0.003181  0.103393   \n",
      "\n",
      "                        Danceability  Loudness (dB)  Liveness   Valence  \\\n",
      "Year                        0.077493       0.343764  0.019017 -0.166163   \n",
      "Beats Per Minute (BPM)     -0.140602       0.092927  0.016256  0.059653   \n",
      "Energy                      0.139616       0.735711  0.174118  0.405175   \n",
      "Danceability                1.000000       0.044235 -0.103063  0.514564   \n",
      "Loudness (dB)               0.044235       1.000000  0.098257  0.147041   \n",
      "Liveness                   -0.103063       0.098257  1.000000  0.050667   \n",
      "Valence                     0.514564       0.147041  0.050667  1.000000   \n",
      "Acousticness               -0.135769      -0.451635 -0.046206 -0.239729   \n",
      "Speechiness                 0.125229       0.125090  0.092594  0.107102   \n",
      "Popularity                  0.144344       0.165527 -0.111978  0.095911   \n",
      "\n",
      "                        Acousticness  Speechiness  Popularity  \n",
      "Year                       -0.132946     0.054097   -0.158962  \n",
      "Beats Per Minute (BPM)     -0.122472     0.085598   -0.003181  \n",
      "Energy                     -0.665156     0.205865    0.103393  \n",
      "Danceability               -0.135769     0.125229    0.144344  \n",
      "Loudness (dB)              -0.451635     0.125090    0.165527  \n",
      "Liveness                   -0.046206     0.092594   -0.111978  \n",
      "Valence                    -0.239729     0.107102    0.095911  \n",
      "Acousticness                1.000000    -0.098256   -0.087604  \n",
      "Speechiness                -0.098256     1.000000    0.111689  \n",
      "Popularity                 -0.087604     0.111689    1.000000  \n"
     ]
    }
   ],
   "source": [
    "#correlation between all audio features\n",
    "data = data.select_dtypes(include=['number'])\n",
    "print(data.corr())"
   ]
  },
  {
   "cell_type": "code",
   "execution_count": 5,
   "id": "64c3d143-da35-49a1-a6a4-8e0dea0debe2",
   "metadata": {
    "tags": []
   },
   "outputs": [],
   "source": [
    "#Create new dataset and perform clustring using K_means algorithm\n",
    "data2 = data[[\"Beats Per Minute (BPM)\", \"Loudness (dB)\", \"Liveness\", \"Valence\",\n",
    "              \"Acousticness\", \"Speechiness\"]]"
   ]
  },
  {
   "cell_type": "code",
   "execution_count": 6,
   "id": "201f72e2-b4d9-4604-abdb-608049b4f3ec",
   "metadata": {
    "tags": []
   },
   "outputs": [],
   "source": [
    "from sklearn.preprocessing import MinMaxScaler\n",
    "for i in data.columns:\n",
    "    MinMaxScaler(i)\n",
    "from sklearn.cluster import KMeans\n",
    "Kmeans = KMeans(n_clusters=10)\n",
    "clusters = Kmeans.fit_predict(data2)"
   ]
  },
  {
   "cell_type": "code",
   "execution_count": 7,
   "id": "950bc41f-62ce-48bf-beb0-54ef04112437",
   "metadata": {
    "tags": []
   },
   "outputs": [],
   "source": [
    "data[\"Music Segments\"] = clusters\n",
    "MinMaxScaler(data[\"Music Segments\"])\n",
    "data[\"Music Segment\"] = data[\"Music Segments\"].map({1: \"Cluster 1\", 2: \n",
    "    \"Cluster 2\", 3: \"Cluster 3\", 4: \"Cluster 4\", 5: \"Cluster 5\", \n",
    "    6: \"Cluster 6\", 7: \"Cluster 7\", 8: \"Cluster 8\", \n",
    "    9: \"Cluster 9\", 10: \"Cluster 10\"})"
   ]
  },
  {
   "cell_type": "code",
   "execution_count": 8,
   "id": "282b6bda-27e9-4535-9bb2-b077a04e3844",
   "metadata": {
    "tags": []
   },
   "outputs": [
    {
     "name": "stdout",
     "output_type": "stream",
     "text": [
      "   Year  Beats Per Minute (BPM)  Energy  Danceability  Loudness (dB)  \\\n",
      "0  2004                     157      30            53            -14   \n",
      "1  2000                     135      79            50            -11   \n",
      "2  2001                     168      69            66             -9   \n",
      "3  2007                     173      96            43             -4   \n",
      "4  2002                     106      82            58             -5   \n",
      "\n",
      "   Liveness  Valence  Acousticness  Speechiness  Popularity  Music Segments  \\\n",
      "0        11       68            94            3          71               1   \n",
      "1        17       81            17            7          39               3   \n",
      "2         7       52             2           17          69               2   \n",
      "3         3       37             0            4          76               2   \n",
      "4        10       87             1            3          59               8   \n",
      "\n",
      "  Music Segment  \n",
      "0     Cluster 1  \n",
      "1     Cluster 3  \n",
      "2     Cluster 2  \n",
      "3     Cluster 2  \n",
      "4     Cluster 8  \n"
     ]
    }
   ],
   "source": [
    "print(data.head())"
   ]
  },
  {
   "cell_type": "code",
   "execution_count": null,
   "id": "deff04c1-53a5-4c2c-93ac-3db2768d4caf",
   "metadata": {
    "tags": []
   },
   "outputs": [],
   "source": [
    "#Visualise the clusters\n",
    "import plotly.graph_objects as go\n",
    "PLOT = go.Figure()\n",
    "for i in list(data[\"Music Segments\"].unique()):\n",
    "    PLOT.add_trace(go.Scatter3d(x = data[data[\"Music Segments\"]== i]['Beats Per Minute (BPM)'],\n",
    "                                y = data[data[\"Music Segments\"] == i]['Energy'],\n",
    "                                z = data[data[\"Music Segments\"] == i]['Danceability'],                        \n",
    "                                mode = 'markers',marker_size = 6, marker_line_width = 1,\n",
    "                                name = str(i)))\n",
    "PLOT.update_traces(hovertemplate='Beats Per Minute (BPM): %{x} <br>Energy: %{y} <br>Danceability: %{z}')\n",
    "\n",
    "    \n",
    "PLOT.update_layout(width = 800, height = 800, autosize = True, showlegend = True,\n",
    "                   scene = dict(xaxis=dict(title = 'Beats Per Minute (BPM)', titlefont_color = 'black'),\n",
    "                                yaxis=dict(title = 'Energy', titlefont_color = 'black'),\n",
    "                                zaxis=dict(title = 'Danceability', titlefont_color = 'black')),\n",
    "                   font = dict(family = \"Gilroy\", color  = 'black', size = 12))\n",
    "\n",
    "#Save fig\n",
    "#import plotly.io as pio\n",
    "#PLOT.write_image(\"clusters_plot.png\") "
   ]
  },
  {
   "cell_type": "code",
   "execution_count": null,
   "id": "23e9aeed-8584-442e-8269-0967228bc7ab",
   "metadata": {},
   "outputs": [],
   "source": []
  }
 ],
 "metadata": {
  "kernelspec": {
   "display_name": "Python 3 (ipykernel)",
   "language": "python",
   "name": "python3"
  },
  "language_info": {
   "codemirror_mode": {
    "name": "ipython",
    "version": 3
   },
   "file_extension": ".py",
   "mimetype": "text/x-python",
   "name": "python",
   "nbconvert_exporter": "python",
   "pygments_lexer": "ipython3",
   "version": "3.11.5"
  }
 },
 "nbformat": 4,
 "nbformat_minor": 5
}
